{
 "cells": [
  {
   "cell_type": "code",
   "execution_count": 2,
   "id": "4e3375bb",
   "metadata": {},
   "outputs": [],
   "source": [
    "from selenium import webdriver\n",
    "from selenium.webdriver.common.by import By\n",
    "from selenium.webdriver.chrome.options import Options\n",
    "from selenium import webdriver\n",
    "import pandas as pd"
   ]
  },
  {
   "cell_type": "code",
   "execution_count": null,
   "id": "d9ef23b1",
   "metadata": {},
   "outputs": [],
   "source": [
    "driver = webdriver.Chrome()\n",
    "\n",
    "driver.get(\"https://www.magazineluiza.com.br/\")\n",
    "\n",
    "#Adicionar validação para ver se o site carregou corretamente, 3 tentativas é o necessário\n",
    "\n"
   ]
  },
  {
   "cell_type": "code",
   "execution_count": null,
   "id": "a99a656a",
   "metadata": {},
   "outputs": [],
   "source": [
    "#TRecho para na tela home selecionar a barra de pesquisar e enviar\n",
    "\n",
    "#Para ser mais literal ao que esta pedindo talvez alterar o submit para pressionar Enter porém não fará diferença na execução\n",
    "\n",
    "input_search_bar = driver.find_element(by= By.XPATH, value=\"/html/body/div[4]/div/main/section[1]/div[3]/header/div/div[2]/div[1]/div[1]/div[1]/form/input\")\n",
    "\n",
    "input_search_bar.send_keys(\"notebooks\")\n",
    "\n",
    "input_search_bar.submit()\n",
    "\n",
    "driver.implicitly_wait(5)\n"
   ]
  },
  {
   "cell_type": "code",
   "execution_count": 19,
   "id": "71ceaa84",
   "metadata": {},
   "outputs": [],
   "source": [
    "test_data = driver.find_element(by=By.XPATH, value=\"/html/body/div[2]/div/main/section[4]/div[5]/div/ul/li[1]/a\")"
   ]
  },
  {
   "cell_type": "code",
   "execution_count": 40,
   "id": "b13ac6c5",
   "metadata": {},
   "outputs": [
    {
     "name": "stdout",
     "output_type": "stream",
     "text": [
      "5.0 (1)\n",
      "Notebook Dell Inspiron 14 2IN1-I1300-A30 Intel Core i5 16GB RAM 512GB SSD Touch Screen 14\" Full HD+ Windows 11 2IN1-I1300-A30\n",
      "https://www.magazineluiza.com.br/notebook-dell-inspiron-14-2in1-i1300-a30-intel-core-i5-16gb-ram-512gb-ssd-touch-screen-14-full-hd-windows-11-2in1-i1300-a30/p/238976400/in/nodl/\n"
     ]
    }
   ],
   "source": [
    "div = test_data.find_element(by=By.CSS_SELECTOR,value= '[data-testid=\"product-card-content\"]')\n",
    "review = div.find_element(by=By.CSS_SELECTOR,value= '[data-testid=\"review\"]')\n",
    "product_title = div.find_element(by=By.CSS_SELECTOR,value= '[data-testid=\"product-title\"]')\n",
    "\n",
    "print(review.text)\n",
    "print(product_title.text)\n",
    "print(test_data.get_attribute('href'))"
   ]
  }
 ],
 "metadata": {
  "kernelspec": {
   "display_name": "Python 3",
   "language": "python",
   "name": "python3"
  },
  "language_info": {
   "codemirror_mode": {
    "name": "ipython",
    "version": 3
   },
   "file_extension": ".py",
   "mimetype": "text/x-python",
   "name": "python",
   "nbconvert_exporter": "python",
   "pygments_lexer": "ipython3",
   "version": "3.11.9"
  }
 },
 "nbformat": 4,
 "nbformat_minor": 5
}
